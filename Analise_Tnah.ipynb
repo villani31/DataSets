{
 "cells": [
  {
   "cell_type": "markdown",
   "id": "ca2abe52-ca98-4098-9054-2e0e83a5c8bb",
   "metadata": {},
   "source": [
    "## Análise Tnah"
   ]
  },
  {
   "cell_type": "code",
   "execution_count": 130,
   "id": "a341d795-8619-40ff-80ae-b5250743ce13",
   "metadata": {
    "jupyter": {
     "source_hidden": true
    },
    "tags": []
   },
   "outputs": [],
   "source": [
    "# importando pacotes\n",
    "import pandas as pd\n",
    "import matplotlib.pyplot as plt\n",
    "import seaborn as sns\n",
    "\n",
    "%matplotlib inline"
   ]
  },
  {
   "cell_type": "code",
   "execution_count": 293,
   "id": "75714802-09b8-4df0-80c6-ded2b3a97db3",
   "metadata": {
    "collapsed": true,
    "jupyter": {
     "outputs_hidden": true,
     "source_hidden": true
    },
    "tags": []
   },
   "outputs": [
    {
     "name": "stdout",
     "output_type": "stream",
     "text": [
      "Dimenssoes do Dataset Registros Coletados: \n",
      " Numeros de linhas:  37427 \n",
      " Numero de colunas:  39\n",
      "-----------------------------------------------\n",
      "Dimenssoes do Dataset Orden de Compra: \n",
      " Numeros de linhas:  1886 \n",
      " Numero de colunas:  16\n",
      "-----------------------------------------------\n",
      "Dimenssoes do Datase Eventost: \n",
      " Numeros de linhas:  209 \n",
      " Numero de colunas:  18\n",
      "-----------------------------------------------\n"
     ]
    }
   ],
   "source": [
    "# lendo dados\n",
    "DATA_REGISTROSCOLETADOS = '/home/thiago/Documentos/Thiago/Analise_Tnah/Export_Table/registroscoletados.csv'\n",
    "DATA_ORDENSPRODUCAO = '/home/thiago/Documentos/Thiago/Analise_Tnah/Export_Table/ordensproducao.csv'\n",
    "DATA_EVENTOS = '/home/thiago/Documentos/Thiago/Analise_Tnah/Export_Table/eventos.csv'\n",
    "\n",
    "# importando dados\n",
    "df_rc = pd.read_csv(DATA_REGISTROSCOLETADOS, low_memory = False)\n",
    "df_op = pd.read_csv(DATA_ORDENSPRODUCAO, low_memory = False)\n",
    "df_eventos = pd.read_csv(DATA_EVENTOS, low_memory = False)\n",
    "\n",
    "# dimensoes do dataset\n",
    "print('Dimenssoes do Dataset Registros Coletados: \\n',\n",
    "     'Numeros de linhas: ', df_rc.shape[0], '\\n',\n",
    "     'Numero de colunas: ', df_rc.shape[1])\n",
    "print('-----------------------------------------------')\n",
    "\n",
    "print('Dimenssoes do Dataset Orden de Compra: \\n',\n",
    "     'Numeros de linhas: ', df_op.shape[0], '\\n',\n",
    "     'Numero de colunas: ', df_op.shape[1])\n",
    "print('-----------------------------------------------')\n",
    "\n",
    "print('Dimenssoes do Datase Eventost: \\n',\n",
    "     'Numeros de linhas: ', df_eventos.shape[0], '\\n',\n",
    "     'Numero de colunas: ', df_eventos.shape[1])\n",
    "print('-----------------------------------------------')\n",
    "\n",
    "# mostrar todas as colunas\n",
    "pd.set_option('display.max_columns', 50) "
   ]
  },
  {
   "cell_type": "markdown",
   "id": "4afbafd0-92b3-417c-b30c-6247840b34d3",
   "metadata": {},
   "source": [
    "### Quantidade de OP por evento = 1 (em produção)"
   ]
  },
  {
   "cell_type": "code",
   "execution_count": 156,
   "id": "9cf4e128-4ff8-4f7e-b83f-3b4061b520e6",
   "metadata": {
    "jupyter": {
     "source_hidden": true
    },
    "tags": []
   },
   "outputs": [
    {
     "data": {
      "text/plain": [
       "CODORDEMPRODUCAO  IDEVENTO\n",
       "55499.0           1.0         4465\n",
       "55942.0           1.0         3921\n",
       "55990.0           1.0         3745\n",
       "55925.0           1.0         3672\n",
       "55776.0           1.0         3495\n",
       "55418.0           1.0         2772\n",
       "55945.0           1.0         2621\n",
       "55993.0           1.0         1804\n",
       "56029.0           1.0         1443\n",
       "55468.0           1.0          935\n",
       "55619.0           1.0          539\n",
       "55904.0           1.0          509\n",
       "56021.0           1.0          405\n",
       "55509.0           1.0          198\n",
       "55121.0           1.0           99\n",
       "54772.0           1.0           84\n",
       "56017.0           1.0           71\n",
       "55808.0           1.0           62\n",
       "55888.0           1.0           39\n",
       "55029.0           1.0            1\n",
       "dtype: int64"
      ]
     },
     "execution_count": 156,
     "metadata": {},
     "output_type": "execute_result"
    }
   ],
   "source": [
    "# quantidade de orden de producao por evento = 1 (em producao)\n",
    "df01 = df_rc[['CODORDEMPRODUCAO','IDEVENTO']]\n",
    "df01.loc[df01.IDEVENTO == 1.0].value_counts()\n",
    "#df01.loc[df01.IDEVENTO == 1.0].count()"
   ]
  },
  {
   "cell_type": "markdown",
   "id": "8bc52f97-8f0c-41e1-8f83-f6e94e08492c",
   "metadata": {},
   "source": [
    "### Orden de produção que mais foi produzida "
   ]
  },
  {
   "cell_type": "code",
   "execution_count": 343,
   "id": "d9c8da41-8466-41e7-8a33-10c7f2e17fbb",
   "metadata": {
    "jupyter": {
     "source_hidden": true
    },
    "tags": []
   },
   "outputs": [
    {
     "data": {
      "text/html": [
       "<div>\n",
       "<style scoped>\n",
       "    .dataframe tbody tr th:only-of-type {\n",
       "        vertical-align: middle;\n",
       "    }\n",
       "\n",
       "    .dataframe tbody tr th {\n",
       "        vertical-align: top;\n",
       "    }\n",
       "\n",
       "    .dataframe thead th {\n",
       "        text-align: right;\n",
       "    }\n",
       "</style>\n",
       "<table border=\"1\" class=\"dataframe\">\n",
       "  <thead>\n",
       "    <tr style=\"text-align: right;\">\n",
       "      <th></th>\n",
       "      <th>IDORDEMPRODUCAO</th>\n",
       "      <th>IDCLIENTE</th>\n",
       "      <th>IDORGANIZACAO</th>\n",
       "      <th>IDSTATUS</th>\n",
       "      <th>IDPROGRAMACAO</th>\n",
       "      <th>IDITEM</th>\n",
       "      <th>CODORDEMPRODUCAO</th>\n",
       "      <th>NOME</th>\n",
       "      <th>DATAINICIO</th>\n",
       "      <th>DATAFIM</th>\n",
       "      <th>QUANTIDADE</th>\n",
       "      <th>IDORDEMTIPO</th>\n",
       "      <th>DATACRIACAO</th>\n",
       "      <th>DATAMODIFICACAO</th>\n",
       "      <th>IDUSUARIOCRIACAO</th>\n",
       "      <th>IDUSUARIOMODIFICACAO</th>\n",
       "    </tr>\n",
       "  </thead>\n",
       "  <tbody>\n",
       "    <tr>\n",
       "      <th>1670</th>\n",
       "      <td>1761</td>\n",
       "      <td>1011</td>\n",
       "      <td>1</td>\n",
       "      <td>1</td>\n",
       "      <td>1</td>\n",
       "      <td>179</td>\n",
       "      <td>55499</td>\n",
       "      <td>13295336 CORPO INTERRUPTOR SIMPLES PAR COMP CINZA</td>\n",
       "      <td>2022-06-14 00:00:00.000</td>\n",
       "      <td>2022-07-08 00:00:00.000</td>\n",
       "      <td>130000.0</td>\n",
       "      <td>NaN</td>\n",
       "      <td>2022-06-14 11:37:43.540</td>\n",
       "      <td>2022-07-11 17:51:40.773</td>\n",
       "      <td>16</td>\n",
       "      <td>1</td>\n",
       "    </tr>\n",
       "  </tbody>\n",
       "</table>\n",
       "</div>"
      ],
      "text/plain": [
       "      IDORDEMPRODUCAO  IDCLIENTE  IDORGANIZACAO  IDSTATUS  IDPROGRAMACAO  \\\n",
       "1670             1761       1011              1         1              1   \n",
       "\n",
       "      IDITEM  CODORDEMPRODUCAO  \\\n",
       "1670     179             55499   \n",
       "\n",
       "                                                   NOME  \\\n",
       "1670  13295336 CORPO INTERRUPTOR SIMPLES PAR COMP CINZA   \n",
       "\n",
       "                   DATAINICIO                  DATAFIM  QUANTIDADE  \\\n",
       "1670  2022-06-14 00:00:00.000  2022-07-08 00:00:00.000    130000.0   \n",
       "\n",
       "      IDORDEMTIPO              DATACRIACAO          DATAMODIFICACAO  \\\n",
       "1670          NaN  2022-06-14 11:37:43.540  2022-07-11 17:51:40.773   \n",
       "\n",
       "      IDUSUARIOCRIACAO  IDUSUARIOMODIFICACAO  \n",
       "1670                16                     1  "
      ]
     },
     "execution_count": 343,
     "metadata": {},
     "output_type": "execute_result"
    }
   ],
   "source": [
    "# produto que mais foi produzido\n",
    "df_op[df_op['CODORDEMPRODUCAO'] == 55499]"
   ]
  },
  {
   "cell_type": "code",
   "execution_count": 262,
   "id": "0612bc9c-1a7f-4c49-9109-777bc612fd7f",
   "metadata": {
    "jupyter": {
     "source_hidden": true
    },
    "tags": []
   },
   "outputs": [
    {
     "data": {
      "image/png": "[encoded data removed]",
      "text/plain": [
       "<Figure size 1080x720 with 1 Axes>"
      ]
     },
     "metadata": {
      "needs_background": "light"
     },
     "output_type": "display_data"
    }
   ],
   "source": [
    "# grafico de barras\n",
    "fig, ax = plt.subplots(figsize=(15,10))\n",
    "df_rc['CODORDEMPRODUCAO'].value_counts().plot(kind='barh')\n",
    "ax.set_title('Quantidade de Ordem de Produção produsido')\n",
    "ax.set_ylabel('Orden de Produção')\n",
    "ax.set_xlabel('Quantidade')\n",
    "plt.tight_layout()"
   ]
  },
  {
   "cell_type": "code",
   "execution_count": null,
   "id": "cf328913-7688-45fa-83b3-553407cd4346",
   "metadata": {},
   "outputs": [],
   "source": []
  },
  {
   "cell_type": "code",
   "execution_count": 294,
   "id": "32f651c8-94df-4657-9844-727415b99e5c",
   "metadata": {
    "jupyter": {
     "source_hidden": true
    },
    "tags": []
   },
   "outputs": [],
   "source": [
    "# conveter coluna para formato de data\n",
    "df_rc['DATAHORAINICIO'] = pd.to_datetime(df_rc['DATAHORAINICIO'])\n",
    "df_rc['DATAHORAFIM'] = pd.to_datetime(df_rc['DATAHORAFIM'])\n",
    "df_rc['DATACRIACAO'] = pd.to_datetime(df_rc['DATACRIACAO'])"
   ]
  },
  {
   "cell_type": "code",
   "execution_count": 204,
   "id": "65001e6f-f1c4-4280-921a-19c1b11f48d1",
   "metadata": {
    "jupyter": {
     "source_hidden": true
    },
    "tags": []
   },
   "outputs": [],
   "source": [
    "# calcular o tempo de duração\n",
    "df_rc_duracao = df_rc['DATAHORAFIM'] - df_rc['DATAHORAINICIO']"
   ]
  },
  {
   "cell_type": "code",
   "execution_count": 215,
   "id": "c25f8ac7-c170-4819-bdaa-e635e52f0c5a",
   "metadata": {
    "jupyter": {
     "source_hidden": true
    },
    "tags": []
   },
   "outputs": [],
   "source": [
    "# adicioando resultado ao dataframe\n",
    "df_rc['Duracao'] = df_rc_duracao"
   ]
  },
  {
   "cell_type": "code",
   "execution_count": 218,
   "id": "0e97eb02-4a47-4437-8b08-c00aa976173d",
   "metadata": {
    "jupyter": {
     "source_hidden": true
    },
    "tags": []
   },
   "outputs": [],
   "source": [
    "# \n",
    "df_rc_duracao02 = df_rc[['CODORDEMPRODUCAO', 'DATAHORAINICIO', 'DATAHORAFIM', 'Duracao']]"
   ]
  },
  {
   "cell_type": "markdown",
   "id": "6b381e2c-482a-4409-94a3-ecf02061aa17",
   "metadata": {},
   "source": [
    "### Analise estatística referente ao tempo de execução da OP"
   ]
  },
  {
   "cell_type": "code",
   "execution_count": 239,
   "id": "af0ec58e-ff26-4668-aef1-bf42344e89d1",
   "metadata": {
    "jupyter": {
     "source_hidden": true
    },
    "tags": []
   },
   "outputs": [
    {
     "data": {
      "text/html": [
       "<div>\n",
       "<style scoped>\n",
       "    .dataframe tbody tr th:only-of-type {\n",
       "        vertical-align: middle;\n",
       "    }\n",
       "\n",
       "    .dataframe tbody tr th {\n",
       "        vertical-align: top;\n",
       "    }\n",
       "\n",
       "    .dataframe thead th {\n",
       "        text-align: right;\n",
       "    }\n",
       "</style>\n",
       "<table border=\"1\" class=\"dataframe\">\n",
       "  <thead>\n",
       "    <tr style=\"text-align: right;\">\n",
       "      <th></th>\n",
       "      <th>CODORDEMPRODUCAO</th>\n",
       "      <th>Duracao</th>\n",
       "    </tr>\n",
       "  </thead>\n",
       "  <tbody>\n",
       "    <tr>\n",
       "      <th>count</th>\n",
       "      <td>37421.0</td>\n",
       "      <td>37239</td>\n",
       "    </tr>\n",
       "    <tr>\n",
       "      <th>mean</th>\n",
       "      <td>55516.0</td>\n",
       "      <td>0 days 00:00:22.010337012</td>\n",
       "    </tr>\n",
       "    <tr>\n",
       "      <th>std</th>\n",
       "      <td>3896.0</td>\n",
       "      <td>0 days 00:04:37.384635795</td>\n",
       "    </tr>\n",
       "    <tr>\n",
       "      <th>min</th>\n",
       "      <td>0.0</td>\n",
       "      <td>0 days 00:00:00</td>\n",
       "    </tr>\n",
       "    <tr>\n",
       "      <th>25%</th>\n",
       "      <td>55499.0</td>\n",
       "      <td>0 days 00:00:10.600000</td>\n",
       "    </tr>\n",
       "    <tr>\n",
       "      <th>50%</th>\n",
       "      <td>55925.0</td>\n",
       "      <td>0 days 00:00:16.010000</td>\n",
       "    </tr>\n",
       "    <tr>\n",
       "      <th>75%</th>\n",
       "      <td>55945.0</td>\n",
       "      <td>0 days 00:00:19.410000</td>\n",
       "    </tr>\n",
       "    <tr>\n",
       "      <th>max</th>\n",
       "      <td>211235.0</td>\n",
       "      <td>0 days 07:59:58.930000</td>\n",
       "    </tr>\n",
       "  </tbody>\n",
       "</table>\n",
       "</div>"
      ],
      "text/plain": [
       "       CODORDEMPRODUCAO                    Duracao\n",
       "count           37421.0                      37239\n",
       "mean            55516.0  0 days 00:00:22.010337012\n",
       "std              3896.0  0 days 00:04:37.384635795\n",
       "min                 0.0            0 days 00:00:00\n",
       "25%             55499.0     0 days 00:00:10.600000\n",
       "50%             55925.0     0 days 00:00:16.010000\n",
       "75%             55945.0     0 days 00:00:19.410000\n",
       "max            211235.0     0 days 07:59:58.930000"
      ]
     },
     "execution_count": 239,
     "metadata": {},
     "output_type": "execute_result"
    }
   ],
   "source": [
    "# mostrando a estatiscticas da duração\n",
    "df_rc_duracao02.describe().round()"
   ]
  },
  {
   "cell_type": "markdown",
   "id": "d0e02e7f-1cd3-46fa-b8b6-8dba69524ba7",
   "metadata": {},
   "source": [
    "### Tempo mínimo, máximo e médiade cada produção."
   ]
  },
  {
   "cell_type": "code",
   "execution_count": 261,
   "id": "47fe7e9b-b451-4869-aea8-76e70673bca8",
   "metadata": {
    "jupyter": {
     "source_hidden": true
    },
    "tags": []
   },
   "outputs": [
    {
     "name": "stdout",
     "output_type": "stream",
     "text": [
      "Duracao máxima: \n",
      "\n",
      " Orden de produção 211235 \n",
      " DATAHORAINICIO      2022-07-08 23:59:40.520000 \n",
      " DATAHORAFIM         2022-07-08 23:59:52.530000 \n",
      " Duracao                 0 days 07:59:58.930000\n",
      "------------------------------------------------------\n",
      "Duracao média: \n",
      "\n",
      " Duracao             0 days 00:00:22.010337012\n",
      "------------------------------------------------------\n",
      "Duracao máxima: \n",
      "\n",
      " CODORDEMPRODUCAO                      211235.0 \n",
      " DATAHORAINICIO      2022-07-08 23:59:40.520000 \n",
      " DATAHORAFIM         2022-07-08 23:59:52.530000 \n",
      " Duracao                 0 days 07:59:58.930000\n"
     ]
    }
   ],
   "source": [
    "# \n",
    "print('Duracao máxima: \\n\\n',\n",
    "      'Orden de produção 211235 \\n',\n",
    "      'DATAHORAINICIO      2022-07-08 23:59:40.520000 \\n',\n",
    "      'DATAHORAFIM         2022-07-08 23:59:52.530000 \\n',\n",
    "      'Duracao                 0 days 07:59:58.930000')\n",
    "print('------------------------------------------------------')\n",
    "\n",
    "print('Duracao média: \\n\\n',\n",
    "      'Duracao             0 days 00:00:22.010337012')\n",
    "print('------------------------------------------------------')\n",
    "\n",
    "print('Duracao máxima: \\n\\n',\n",
    "     'CODORDEMPRODUCAO                      211235.0 \\n',\n",
    "     'DATAHORAINICIO      2022-07-08 23:59:40.520000 \\n',\n",
    "     'DATAHORAFIM         2022-07-08 23:59:52.530000 \\n',\n",
    "     'Duracao                 0 days 07:59:58.930000')"
   ]
  },
  {
   "cell_type": "code",
   "execution_count": 345,
   "id": "69df9eb2-1bf2-4947-9b31-c0b7af2c3ad0",
   "metadata": {
    "jupyter": {
     "source_hidden": true
    },
    "tags": []
   },
   "outputs": [
    {
     "data": {
      "image/png": "[encoded data removed]",
      "text/plain": [
       "<Figure size 576x432 with 1 Axes>"
      ]
     },
     "metadata": {
      "needs_background": "light"
     },
     "output_type": "display_data"
    }
   ],
   "source": [
    "#\n",
    "fig, ax = plt.subplots(figsize=(8,6))\n",
    "sns.countplot(data=df_rc, x='IDEVENTOTIPO', ax=ax)\n",
    "# titulo\n",
    "ax.text(-0.7,37990, 'Quantidade por tipo de evento', fontsize=24, fontweight='bold')\n",
    "ax.text(-0.7,34850, '1 - Produção: 4 - Parada Identificada, 7 - Manutenção', fontsize=14)\n",
    "plt.xlabel('Tipo de Evento', size=12)\n",
    "plt.ylabel('Quantidade', size=12)\n",
    "plt.tight_layout()"
   ]
  },
  {
   "cell_type": "code",
   "execution_count": 316,
   "id": "44a2e3d5-3179-4f37-b2ca-c8fa165ab51c",
   "metadata": {
    "jupyter": {
     "source_hidden": true
    },
    "tags": []
   },
   "outputs": [
    {
     "data": {
      "image/png": "[encoded data removed]",
      "text/plain": [
       "<Figure size 864x432 with 1 Axes>"
      ]
     },
     "metadata": {
      "needs_background": "light"
     },
     "output_type": "display_data"
    }
   ],
   "source": [
    "fig, ax = plt.subplots(figsize=(12,6))\n",
    "df_rc.groupby(df_rc['DATACRIACAO'].dt.hour)['CODORDEMPRODUCAO'].sum().plot.line()\n",
    "ax.set_title('Orden produção por Hora')\n",
    "plt.tight_layout()"
   ]
  },
  {
   "cell_type": "code",
   "execution_count": null,
   "id": "f5c786be-fa4d-418a-a639-8ed39f5cee7c",
   "metadata": {},
   "outputs": [],
   "source": []
  }
 ],
 "metadata": {
  "kernelspec": {
   "display_name": "Python 3",
   "language": "python",
   "name": "python3"
  },
  "language_info": {
   "codemirror_mode": {
    "name": "ipython",
    "version": 3
   },
   "file_extension": ".py",
   "mimetype": "text/x-python",
   "name": "python",
   "nbconvert_exporter": "python",
   "pygments_lexer": "ipython3",
   "version": "3.8.10"
  }
 },
 "nbformat": 4,
 "nbformat_minor": 5
}
